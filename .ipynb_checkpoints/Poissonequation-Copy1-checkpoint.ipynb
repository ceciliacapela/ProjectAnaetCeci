{
 "cells": [
  {
   "cell_type": "code",
   "execution_count": 17,
   "metadata": {},
   "outputs": [],
   "source": [
    "#Import libraries\n",
    "import matplotlib.pyplot as plt\n",
    "import numpy as np\n",
    "import pylab as py\n",
    "import seaborn as sns"
   ]
  },
  {
   "cell_type": "markdown",
   "metadata": {},
   "source": [
    "# Poisson Equation\n",
    "##### Ana Júlia Antunes Souza and Cecilia Pires de Oliveira Capela\n",
    "\n",
    "## 1. Problem proposed\n",
    "In this project, we are interested in detemining the solution for the Poisson equation for an electrostatic potential problem. \n",
    "The electric potential in the presence of lines of charge is:\n",
    "$$\\frac{\\partial^2 V}{\\partial x^2}+\\frac{\\partial^2 V}{\\partial y^2}= -\\frac{\\rho}{\\epsilon_0}$$ \n",
    "where $\\rho$ is the volumetric density of charges and $\\epsilon_0$ is the electric permissivity in vacuum\n",
    "\n",
    "For the values of these variables, we are going to use: \n",
    "$$\\rho = 1 \\qquad\n",
    "\\epsilon_0 = 8.8 \\cdot 10^{-12}\n",
    "$$"
   ]
  },
  {
   "cell_type": "code",
   "execution_count": 53,
   "metadata": {},
   "outputs": [],
   "source": [
    "#Variables\n",
    "N = 10\n",
    "rho0 = 1\n",
    "epsilon_0 = 8.8e-12"
   ]
  },
  {
   "cell_type": "markdown",
   "metadata": {},
   "source": [
    "We are going to study the electrostatic potential of a condenser, which is limited to a $xy$ plan, where the domain is:\n",
    "\n",
    "$$0\\leq x \\leq 1 \\qquad 0\\leq y \\leq 1$$\n",
    "\n",
    "The lines of charge are present in the following positions: \n",
    "\n",
    "$$\\textit{ Positive charge line: } 0.25 \\leq x \\leq 0.75, y = 0.4$$\n",
    "\n",
    "$$\\textit{ Negative charge line: } 0.25 \\leq x \\leq 0.75, y = 0.6$$\n",
    "\n",
    "### 1.1. Domain\n",
    "\n",
    "To start the problem, we are going to create the domain where the electrostatic potential problem takes place. \n",
    "\n",
    "We can write:\n",
    "\n",
    "$$\\left\\{\\begin{matrix}\n",
    "x_i = x_0 + i\\Delta x & 0\\leq i < N \\\\ \n",
    "y_j = y_0 + j\\Delta y & 0\\leq j < N \n",
    "\\end{matrix}\\right.$$\n",
    "\n",
    "Then, we have to determine the $dx$ and $dy$ as well as the variations $\\epsilon_x = \\frac{1}{\\Delta x^2}$ and $\\epsilon_y = \\frac{1}{\\Delta y^2}$ for a square mesh with $N = 65$ subdivisions between $(x_0,y_0)$ and $(x_{ max},y_{max})$.\n",
    "\n",
    "The following code implements these steps, as well as plots the domain with the lines of charge: "
   ]
  },
  {
   "cell_type": "code",
   "execution_count": 78,
   "metadata": {},
   "outputs": [],
   "source": [
    "#Creating domain\n",
    "x = np.linspace(0,1, N)\n",
    "y = np.linspace(0,1, N)\n",
    "\n",
    "#Creating lines of charge\n",
    "dx = 1/(N-1)\n",
    "dy = dx\n",
    "p = np.zeros((N,N))\n",
    "\n",
    "jmin = int(0.25/dx)+1\n",
    "jmax = int(0.75/dx)+1\n",
    "i2 = int(0.6/dy)\n",
    "i1 = int(0.4/dy)\n",
    "for j in range(jmin, jmax):\n",
    "        p[i2, j] = -rho0\n",
    "        p[i1, j] = rho0\n",
    "\n",
    "ex = dx**(-2)\n",
    "ey = ex"
   ]
  },
  {
   "cell_type": "code",
   "execution_count": 55,
   "metadata": {},
   "outputs": [
    {
     "data": {
      "image/png": "[encoded data removed]",
      "text/plain": [
       "<Figure size 720x720 with 2 Axes>"
      ]
     },
     "metadata": {
      "needs_background": "light"
     },
     "output_type": "display_data"
    }
   ],
   "source": [
    "#Visualizing the lines of charge and the domain\n",
    "plt.figure (figsize = (10,10))\n",
    "ax = sns.heatmap(p, linewidth=0.1, cmap = \"YlGnBu\")\n",
    "plt.xlabel('x')\n",
    "plt.ylabel('y')\n",
    "plt.show()"
   ]
  },
  {
   "cell_type": "markdown",
   "metadata": {},
   "source": [
    "## 2. Solving the problem\n",
    "\n",
    "### 2.1. Explanation of how to solve the problem numerically \n",
    "\n",
    "To solve numerically this problem, we have to write the second-order development of the Taylor Series for the derivatives:\n",
    "$$\\frac{\\partial^2 U}{\\partial x^2} \\approx \\frac{U(x+\\Delta x, y) + U(x-\\Delta x, y) - 2U(x,y)}{\\Delta x^2}$$\n",
    "\n",
    "$$\\frac{\\partial^2 U}{\\partial y^2} \\approx \\frac{U(x, y+\\Delta y) + U(x, y-\\Delta x) - 2U(x,y)}{\\Delta y^2}$$\n",
    "\n",
    "We can rewrite the equation using discrete notation, which results in the following:\n",
    "\n",
    "$$\\epsilon_x(u_{i+1,j} + u_{i-1,j} - 2u_{i,j}) + \\epsilon_y(u_{i,j+1}+ u_{i,j-1} - 2u_{i,j}) = \\frac{\\rho_{i,j}}{\\varepsilon_0}$$\n",
    "\n",
    "where:\n",
    "\n",
    "$$\\epsilon_x = \\frac{1}{\\Delta x^2} \\textit{ et } \\epsilon_y = \\frac{1}{\\Delta y^2} $$\n",
    "\n",
    "Then, we are going to reindexate $i$ and $j$ as $k$ as to obtain 1D vectors:\n",
    "\n",
    "$$k = iN + j, \\textit{ with } 0\\leq K < N^2$$\n",
    "\n",
    "With the reindexation, the equation becomes:\n",
    "\n",
    "$$\\epsilon_x(u_{k+N+1} + u_{k-N-1}) + \\epsilon_y(u_{k+1} + u_{k-1}) - 2(\\epsilon_x + \\epsilon_y)u_k = \\frac{\\rho_k}{\\varepsilon_0}$$\n",
    "\n",
    "Thus, the matrix of coefficients can be written as the following: \n",
    "\n",
    "- All the main diagonal terms are equal to $2(\\epsilon_x + \\epsilon_y)$;\n",
    "- The terms just before and just after the main diagonal, therefore in the columns $k-1$ and $k+1$, are equal to $\\epsilon_y$;\n",
    "- The terms in the columns $k+N+1$ and $k-N-1$ are equal to $\\epsilon_x.$\n",
    "\n",
    "Substantially, a line of the matrix takes the following form:\n",
    "\n",
    "$$\\begin{bmatrix}\n",
    "\\cdots  & \\epsilon_x &\\cdots   & \\epsilon_y  & -2(\\epsilon_x + \\epsilon_y) & \\epsilon_y &\\cdots \\epsilon_x & \\cdots  \n",
    "\\end{bmatrix}$$\n",
    "\n",
    "Then, we need to indexate the constant vector ($\\frac{\\rho_k}{\\varepsilon_0}$) as well. Before indexation, the constant vector is a $NxN$ matrix with the following form (considering $N = 10$ instead of $N=65$): \n",
    "\n",
    "$$\\begin{bmatrix}\n",
    "0 & 0  & 0  & 0 & 0 & 0  & 0  & 0 & 0 & 0\\\\\n",
    "0 & 0  & 0  & 0 & 0 & 0  & 0  & 0 & 0 & 0\\\\\n",
    "0 & 0  & 0  & 0 & 0 & 0  & 0  & 0 & 0 & 0\\\\\n",
    "0 & 0  & 0  & \\rho_0 & \\rho_0 & \\rho_0  & \\rho_0  & 0 & 0 & 0\\\\\n",
    "0 & 0  & 0  & 0 & 0 & 0  & 0  & 0 & 0 & 0\\\\\n",
    "0 & 0  & 0  & -\\rho_0 & -\\rho_0 & -\\rho_0  & -\\rho_0  & 0 & 0 & 0\\\\\n",
    "0 & 0  & 0  & 0 & 0 & 0  & 0  & 0 & 0 & 0\\\\\n",
    "0 & 0  & 0  & 0 & 0 & 0  & 0  & 0 & 0 & 0\\\\\n",
    "0 & 0  & 0  & 0 & 0 & 0  & 0  & 0 & 0 & 0\\\\\n",
    "0 & 0  & 0  & 0 & 0 & 0  & 0  & 0 & 0 & 0\\\\\n",
    "\\end{bmatrix}$$\n",
    "\n",
    "By applying the reindexation ($k = iN + j$), the constant vector becomes a column vector with $N^2$ columns.\n",
    "\n",
    "The code bellow applies the steps mentioned above:"
   ]
  },
  {
   "cell_type": "code",
   "execution_count": 66,
   "metadata": {},
   "outputs": [],
   "source": [
    "#Reindexing\n",
    "\n",
    "#New rho \n",
    "pk = np.zeros ((N*N))\n",
    "for i in range (N):\n",
    "    for j in range (N):\n",
    "        pk [i*N+j] = p [i,j]\n",
    "\n",
    "#Matrix of coefficients\n",
    "coef = np.zeros((N**2,N**2))\n",
    "\n",
    "for k in range (N*N):\n",
    "    coef [k,k] = -2*(ex+ey)\n",
    "    if k > 0:\n",
    "        coef [k,k-1] = ey\n",
    "    if k < (N*N-1):\n",
    "        coef [k,k+1] = ey\n",
    "    if k > (N+1): \n",
    "        coef [k,k-N-1] = ex\n",
    "    if k  < (N*N-N-1): \n",
    "        coef [k,k+N+1] = ex"
   ]
  },
  {
   "cell_type": "markdown",
   "metadata": {},
   "source": [
    "Thus, after this procedure, we have a linear system:\n",
    "$$Ax = B$$\n",
    "where $A$ is the matrix of coefficients (```coef ```) and B is the constant vector (```pk ```). \n",
    "$A$ has the size $(N^2 x N^2)$ and B has the size $(N^2, 1)$. Therefore, the system can be solved using a **linear system solving method**.\n",
    "\n",
    "Up to this point, we were able to create the domain where the electric potential is present and we stablished the indexed coefficient and constant matrix. However, we still have not considered the boundary conditions of the problem Therefore, before solving the system, we are going to consider them:"
   ]
  },
  {
   "cell_type": "markdown",
   "metadata": {},
   "source": [
    "### 2.2. Dirichlet boundary conditions\n",
    "The Dirichlet boundary conditions is a boundary condition that specifies the values that a solution needs to take along the boundary of the domain. In our case, we are going to consider that there is no electric potential in the borders of the domain. In mathematical terms, \n",
    "\n",
    "$$V(x = 0, y) = 0 \\qquad V(x = 1, y) = 0$$\n",
    "$$V(x, y = 0) = 0 \\qquad V(x, y = 1) = 0$$ \n",
    "\n",
    "considering that we have a domain where $0\\leq x \\leq 1$ and $0\\leq y \\leq 1$. \n",
    "\n",
    "As a result, to consider the boundary conditions, some of the terms in the coefficient matrix have to be equal to zero. But, since we have reindexed the terms with $k$, we have to equal to zero the following terms of the coefficient matrix:\n",
    "* for $i=0$, ```coef(k, k-N) = 0```; \n",
    "* for $i= N-1$, ```coef(k, k+N) = 0```; \n",
    "* for $j = 0$, ```coef(k, k-1) = 0```;\n",
    "* for $j = N-1$, ```coef(k, k+1) = 0```;\n",
    "\n",
    "Since $k = iN + j$, we can iterate over $k$ and get the values of $i$ and $j$ by accessing the quotient and the remainder, respectively: \n",
    "```python  \n",
    "i,j = k//N,k%N\n",
    "```   \n",
    "And then, we can equal to zero the terms of the matrix of coefficient for the values of $k$ listed in the bullet points. \n",
    "\n",
    "The function ```Dirichlet(A)``` accounts for the Dirichlet conditions with the method described above:"
   ]
  },
  {
   "cell_type": "code",
   "execution_count": 76,
   "metadata": {},
   "outputs": [],
   "source": [
    "def Dirichlet(A):  # These conditions put zeros in certain terms of A (which are the facteurs of uk in the boundaries)\n",
    "   for k in range (N*N):\n",
    "       i,j = k//N,k%N\n",
    "       # in the left side i = 0\n",
    "       if i == 0:\n",
    "           #factor of k-N is zero\n",
    "           if k-N>=0:\n",
    "               A[k,k-N] = 0\n",
    "       # in the right side i = N-1\n",
    "       if i == N-1:\n",
    "           if k+N < N*N:\n",
    "               A[k,k+N] = 0\n",
    "\n",
    "       # in the bottom j = 0  \n",
    "       if (j==0):\n",
    "           if k-1>=0:\n",
    "               A[k,k-1] = 0\n",
    "       # in the top j = N-1\n",
    "       if j == N-1:\n",
    "           if k+1<N*N:             \n",
    "               A[k,k+1] = 0\n",
    "\n",
    "   return A\n",
    "\n",
    "coef = Dirichlet(coef)"
   ]
  },
  {
   "cell_type": "markdown",
   "metadata": {},
   "source": [
    "### 2.3. Solving linear system\n"
   ]
  },
  {
   "cell_type": "code",
   "execution_count": 72,
   "metadata": {},
   "outputs": [],
   "source": [
    "def Jacobi(A, b, N, x_init): \n",
    "    x = np.linalg.solve(A, b)\n",
    "    return x\n",
    "u = Jacobi (coef, -pk/epsilon_0, int(1e4), np.ones(len(pk)))"
   ]
  },
  {
   "cell_type": "markdown",
   "metadata": {},
   "source": [
    "### 2.4. Returning to x and y \n",
    "We found the electric potential for the k-indexed linear system. The next (and final) step to determine the solution to the problem is to **return to the $i$ and $j$ indexation**, as to be able to plot the solution to the electrostatic potential problem in a 2D-grid. \n",
    "To do that, we will iterate over the values of $i$ and $j$ and use the indexation $k = iN + j$ to go back to $u_{i,j}$ instead of $u_k$:"
   ]
  },
  {
   "cell_type": "code",
   "execution_count": 74,
   "metadata": {},
   "outputs": [],
   "source": [
    "pot_u = np.zeros((N,N))\n",
    "for i in range(N):\n",
    "    for j in range(N):\n",
    "        pot_u[i,j] = u[i*N+j]"
   ]
  },
  {
   "cell_type": "markdown",
   "metadata": {},
   "source": [
    "## 3. Results\n",
    "\n",
    "### 3.1. Plot of the electric potential\n",
    "\n",
    "We can plot the electric potential in a 2D-grid, which gives the following result:\n",
    "\n",
    "As can be noted, the graph is consistent with our electric potential problem. One can notice that the electric potential is strongest where the lines of charge are located. Moreover, the electric potential is equal to zero in the boundaries of the system, which is in fact what we expected by imposing the Dirichlet boundary conditions.\n",
    "Thus, we can assume that the solutions found for the problem represent well the physical system we were dealing with. "
   ]
  },
  {
   "cell_type": "markdown",
   "metadata": {},
   "source": [
    "### 3.2. Electric field \n",
    "\n",
    "#### 3.2.1. Calculating the electric field\n",
    "In electromagnetism, if the electric potential is known at every point in a region of space (which is the case of our problem), one can derive the electric field from the potential. In fact, in vector calculus notation, the electric field is given by the negative of the gradient of the electric potential:\n",
    "$$E = −\\nabla V$$ \n",
    "\n",
    "Using this expression, we can calculate the electric field at a given point in our domain. To compute the gradient of the potential, we are going to use the ```numpy``` function ```np.gradient()```. \n",
    "The electric field is a vector, thus it has both a direction and magnitude. Therefore, to plot the electric field, we will use **COLOCAR AQUI O NOME DO TRECO QUE USAMOS QUE NÃO SEI**.\n",
    "\n",
    "#### 3.2.1. Plot of the electric field\n",
    " -> Dizer que sai do + pro -, como esperado.\n",
    " -> Destacar que isso é mais um indicio de que nossa solução está correta."
   ]
  },
  {
   "cell_type": "markdown",
   "metadata": {},
   "source": [
    "## 4. Optimizing\n",
    "\n",
    "### 4.1. Solving the linear system by different methods \n",
    "### 4.2. Efficiency of each method"
   ]
  },
  {
   "cell_type": "code",
   "execution_count": 79,
   "metadata": {},
   "outputs": [
    {
     "data": {
      "text/plain": [
       "Text(0.5, 1.0, '$\\\\nabla^2 u = -\\\\rho/\\\\epsilon_0$')"
      ]
     },
     "execution_count": 79,
     "metadata": {},
     "output_type": "execute_result"
    },
    {
     "data": {
      "image/png": "[encoded data removed]",
      "text/plain": [
       "<Figure size 864x576 with 2 Axes>"
      ]
     },
     "metadata": {
      "needs_background": "light"
     },
     "output_type": "display_data"
    }
   ],
   "source": [
    "#Plotting the graph of the electric potential \n",
    "\n",
    "py.figure(figsize = (12,8))\n",
    "py.contourf(x,y,pot_u, 40, cmap = 'inferno')\n",
    "py.colorbar()\n",
    "py.xlabel('x (u.a)')\n",
    "py.ylabel('y (u.a)')\n",
    "py.title(r'$\\nabla^2 u = -\\rho/\\epsilon_0$')"
   ]
  }
 ],
 "metadata": {
  "kernelspec": {
   "display_name": "Python 3",
   "language": "python",
   "name": "python3"
  },
  "language_info": {
   "codemirror_mode": {
    "name": "ipython",
    "version": 3
   },
   "file_extension": ".py",
   "mimetype": "text/x-python",
   "name": "python",
   "nbconvert_exporter": "python",
   "pygments_lexer": "ipython3",
   "version": "3.8.5"
  }
 },
 "nbformat": 4,
 "nbformat_minor": 5
}
