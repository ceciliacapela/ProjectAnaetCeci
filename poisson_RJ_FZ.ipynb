{
 "cells": [
  {
   "cell_type": "markdown",
   "metadata": {
    "id": "D0m13y8aWeeP"
   },
   "source": [
    "# **Equation de poisson**\n",
    "\n",
    "> *Julia ROCHA & Zelda FERY*\n",
    "\n",
    "\n",
    "\n",
    "\n",
    "\n",
    "On importe tout d'abord les bibliothèques nécessaires pour ce projet: \n"
   ]
  },
  {
   "cell_type": "code",
   "execution_count": null,
   "metadata": {
    "id": "askwl90VP6ai"
   },
   "outputs": [],
   "source": [
    "import numpy as np\n",
    "import pylab as py\n",
    "import seaborn as sns"
   ]
  },
  {
   "cell_type": "markdown",
   "metadata": {
    "id": "VljxQbBsWc9H"
   },
   "source": [
    "On cherche à résoudre l'équation de Poisson en 2D:\n",
    "\n",
    "$$\\frac{\\partial^2 U}{\\partial x^2} + \\frac{\\partial^2 U}{\\partial y^2} = -\\frac{\\rho}{\\varepsilon_0} $$\n",
    "\n",
    "On se limite à une portion carré du plan $xy$ pour laquelle on défini une maillage:\n",
    "\n",
    "$$\\left\\{\\begin{matrix}\n",
    "x_i = x_0 + i\\Delta x & 0\\leq i < N \\\\ \n",
    "y_j = y_0 + j\\Delta y & 0\\leq j < N \n",
    "\\end{matrix}\\right.$$\n",
    "\n",
    "On écrit ici une fonction qui donne les $dx$ et $dy$ ainsi que les variations $\\epsilon_x$ et $\\epsilon_y$ pour une maille carrée avec $N$ subdivisions entre $(x_0,y_0)$ et $(x_{max},y_{max})$:"
   ]
  },
  {
   "cell_type": "code",
   "execution_count": 32,
   "metadata": {
    "id": "3LvSEfQVP6an"
   },
   "outputs": [],
   "source": [
    "def maille(x0, y0, xmax, ymax, N):\n",
    "    dx = (xmax - x0)/(N-1)\n",
    "    dy = dx\n",
    "    epsilonx = dx**(-2)\n",
    "    epsilony = epsilonx\n",
    "    return dx, dy, epsilonx, epsilony"
   ]
  },
  {
   "cell_type": "markdown",
   "metadata": {
    "id": "kullIJ4BlAYd"
   },
   "source": [
    "Pour résoudre le problème numériquement on écrit le développement d’ordre deux en Série de Taylor pour les dérives:\n",
    "\n",
    "$$\\frac{\\partial^2 U}{\\partial x^2} \\approx \\frac{U(x+\\Delta x, y) + U(x-\\Delta x, y) - 2U(x,y)}{\\Delta x^2}$$\n",
    "\n",
    "$$\\frac{\\partial^2 U}{\\partial y^2} \\approx \\frac{U(x, y+\\Delta y) + U(x, y-\\Delta x) - 2U(x,y)}{\\Delta y^2}$$\n",
    "\n",
    "Et on réécrit l'équation, en utilisant la notation discrète, comme:\n",
    "\n",
    "$$\\epsilon_x(u_{i+1,j} + u_{i-1,j} - 2u_{i,j}) + \\epsilon_y(u_{i,j+1}+ u_{i,j-1} - 2u_{i,j}) = \\frac{\\rho_{i,j}}{\\varepsilon_0}$$\n",
    "\n",
    "Où:\n",
    "\n",
    "$$\\epsilon_x = \\frac{1}{\\Delta x^2} \\textit{ et } \\epsilon_y = \\frac{1}{\\Delta y^2} $$\n",
    "\n",
    "Pour finir on fait une réindexation à fin d'obtenir des vecteurs 1D:\n",
    "\n",
    "$$k = iN + j, \\textit{ avec } 0\\leq K < N^2$$\n",
    "\n",
    "Comme ça, on obtient l'équation sous la forme:\n",
    "\n",
    "$$\\epsilon_x(u_{k+N+1} + u_{k-N-1}) + \\epsilon_y(u_{k+1} + u_{k-1}) - 2(\\epsilon_x + \\epsilon_y)u_k = \\frac{\\rho_k}{\\varepsilon_0}$$\n",
    "\n",
    "Donc, la matrice peut s'écrire de cette manière:\n",
    "\n",
    "- Tous les termes de la diagonales sont égaux à $2(\\epsilon_x + \\epsilon_y)$;\n",
    "- Les termes juste avant et juste aprés la diagonale, c'est-à-dire dans les colonnes $k-1$ et $k+1$, sont égaux à $\\epsilon_y$;\n",
    "- Les termes dans la colonne $k+N+1$ et $k-N-1$ sont égaux à $\\epsilon_x.$\n",
    "\n",
    "En géneral, on a une ligne de la forme:\n",
    "\n",
    "$$\\begin{bmatrix}\n",
    "\\cdots  & \\epsilon_x &\\cdots   & \\epsilon_y  & -2(\\epsilon_x + \\epsilon_y) & \\epsilon_y &\\cdots \\epsilon_x & \\cdots  \n",
    "\\end{bmatrix}$$\n",
    "\n",
    "La fonction suivante donne la matrice des coefficients explicités ci-dessus:"
   ]
  },
  {
   "cell_type": "code",
   "execution_count": 126,
   "metadata": {
    "id": "T5EopZSUP6an"
   },
   "outputs": [],
   "source": [
    "def matrice(epsilonx, epsilony, N): \n",
    "    dim = N**2\n",
    "    m = np.zeros((dim,dim))\n",
    "    for i in range((N**2)):\n",
    "        m[i,i] = -2*(epsilonx + epsilony)\n",
    "        if i-1 >= 0:\n",
    "            m[i,i-1] = epsilonx\n",
    "        if i+1 <= (N**2) -1:\n",
    "            m[i,i+1] = epsilonx\n",
    "        if i+N <= (N**2) -1:\n",
    "            m[i, i+N] = epsilony\n",
    "        if i-N >= 0:\n",
    "            m[i, i-N] = epsilony\n",
    "    return m\n"
   ]
  },
  {
   "cell_type": "markdown",
   "metadata": {
    "id": "rMksLf94kt3m"
   },
   "source": [
    "On a choisi la partie entière $\\left \\lfloor x \\right \\rfloor$ pour faire la relation entre le système physique et notre maille. Ici on écrit une fonction qui donne les lignes de charges avec la réindexation :"
   ]
  },
  {
   "cell_type": "code",
   "execution_count": 125,
   "metadata": {
    "id": "r9cQXALgP6ao"
   },
   "outputs": [],
   "source": [
    "def charge(dx, dy, xmin, xmax, y1, y2 , N, dq):\n",
    "    jmin = int(xmin/dx)\n",
    "    jmax = int(xmax/dx)\n",
    "    i2 = int(y2/dy)\n",
    "    i1 = int(y1/dy)\n",
    "    m = np.zeros((N,N))\n",
    "    for j in range(jmin, jmax):\n",
    "        m[i2, j] = -dq\n",
    "        m[i1, j] = dq\n",
    "    n = np.zeros(N**2)\n",
    "    for i in range(N):\n",
    "      for j in range(N):\n",
    "        n[i*N + j] = m[i,j]\n",
    "    return m,n "
   ]
  },
  {
   "cell_type": "markdown",
   "metadata": {
    "id": "d08_rYfPky32"
   },
   "source": [
    "Cette fonction fait l'inversion de la matrice $A$ avec la méthode de Jacobi:\n"
   ]
  },
  {
   "cell_type": "code",
   "execution_count": 163,
   "metadata": {
    "id": "35zxpUXvP6ar"
   },
   "outputs": [],
   "source": [
    "def Jacobi(A, b, N, x_init): \n",
    "    x = np.linalg.solve(A, b)\n",
    "    return x  "
   ]
  },
  {
   "cell_type": "markdown",
   "metadata": {
    "id": "lotNrfOVljif"
   },
   "source": [
    "On initialise le problème posé en utilisant les fonctions précédentes:"
   ]
  },
  {
   "cell_type": "code",
   "execution_count": 167,
   "metadata": {
    "id": "I6n8xHXDdFaZ"
   },
   "outputs": [],
   "source": [
    "N = 65\n",
    "epsilon_0 = 8.8e-12\n",
    "dx, dy, epsilonx, epsilony = maille(0, 0, 1, 1, N)\n",
    "nabla = matrice(epsilonx, epsilony, N)\n",
    "rho, rho_k = charge(dx, dy, 0.25, 0.75, 0.4, 0.6 , N, 1)"
   ]
  },
  {
   "cell_type": "markdown",
   "metadata": {
    "id": "vW5m5uFZlsKw"
   },
   "source": [
    "On résoud l'équation de Poisson en inversant la matrice avec la méthode de Jacobi:"
   ]
  },
  {
   "cell_type": "code",
   "execution_count": 168,
   "metadata": {
    "id": "CUOkZamCdF5d"
   },
   "outputs": [],
   "source": [
    "\n",
    "u = Jacobi(nabla, -rho_k/epsilon_0, int(1e4), np.ones(len(rho_k)))\n"
   ]
  },
  {
   "cell_type": "code",
   "execution_count": 169,
   "metadata": {
    "id": "HOVo0ddtdHWA"
   },
   "outputs": [
    {
     "name": "stdout",
     "output_type": "stream",
     "text": [
      "[  945584.40511461  1303678.52226434  1476115.32924972 ...\n",
      " -1526652.3787959  -1355837.87637395  -988088.82240045]\n",
      "[  945584.40511461  1303678.52226434  1476115.32924972 ...\n",
      " -1526652.3787959  -1355837.87637395  -988088.82240045]\n"
     ]
    }
   ],
   "source": [
    "print(u)\n",
    "pot_u = np.zeros((N,N))\n",
    "print(u)\n",
    "for i in range(N):\n",
    "    for j in range(N):\n",
    "        pot_u[i,j] = u[i*N+j]"
   ]
  },
  {
   "cell_type": "markdown",
   "metadata": {
    "id": "assvd7jWniYt"
   },
   "source": [
    "On initalise les axes $x$ et $y$ à tracer:\n"
   ]
  },
  {
   "cell_type": "code",
   "execution_count": 160,
   "metadata": {
    "id": "jdw58XMpyNiV"
   },
   "outputs": [],
   "source": [
    "x = np.zeros(N)\n",
    "y = np.zeros(N)\n",
    "for i in range(N):\n",
    "  x[i] = i*dx\n",
    "  y[i] = i*dy\n"
   ]
  },
  {
   "cell_type": "markdown",
   "metadata": {
    "id": "LFCYyrMCnpDc"
   },
   "source": [
    "On faire un affichage sympathique:"
   ]
  },
  {
   "cell_type": "code",
   "execution_count": 106,
   "metadata": {
    "colab": {
     "base_uri": "https://localhost:8080/",
     "height": 534
    },
    "id": "MeFngUgxdYOc",
    "outputId": "26433907-31ec-4b2b-cbc9-5eb4153a83ca"
   },
   "outputs": [
    {
     "data": {
      "text/plain": [
       "Text(0.5, 1.0, '$\\\\nabla^2 u = -\\\\rho/\\\\epsilon_0$')"
      ]
     },
     "execution_count": 106,
     "metadata": {},
     "output_type": "execute_result"
    },
    {
     "data": {
      "image/png": "[encoded data removed]",
      "text/plain": [
       "<Figure size 864x576 with 2 Axes>"
      ]
     },
     "metadata": {
      "needs_background": "light"
     },
     "output_type": "display_data"
    }
   ],
   "source": [
    "py.figure(figsize = (12,8))\n",
    "py.contourf(x,y,pot_u, 41, cmap = 'inferno')\n",
    "py.colorbar()\n",
    "py.xlabel('x (u.a)')\n",
    "py.ylabel('y (u.a)')\n",
    "py.title(r'$\\nabla^2 u = -\\rho/\\epsilon_0$')"
   ]
  },
  {
   "cell_type": "code",
   "execution_count": 142,
   "metadata": {},
   "outputs": [],
   "source": [
    "#Variables\n",
    "N = 65\n",
    "rho0 = 1\n",
    "epsilon_0 = 8.8e-12\n",
    "\n",
    "#Creating domain\n",
    "x = np.linspace(0,1, N, endpoint=False)\n",
    "y = np.linspace(0,1, N, endpoint=False)\n",
    "\n",
    "#Creating lines of charge\n",
    "dx = 1/(N-1)\n",
    "dy = dx\n",
    "p = np.zeros((N,N))\n",
    "\n",
    "jmin = int(0.25/dx)\n",
    "jmax = int(0.75/dx)\n",
    "i2 = int(0.6/dy)\n",
    "i1 = int(0.4/dy)\n",
    "for j in range(jmin, jmax):\n",
    "        p[i2, j] = -rho0\n",
    "        p[i1, j] = rho0\n",
    "\n",
    "ex = dx**(-2)\n",
    "ey = ex\n",
    "\n",
    "#Reindexing\n",
    "#New rho \n",
    "pk = np.zeros ((N*N))\n",
    "for i in range (N):\n",
    "    for j in range (N):\n",
    "        pk [i*N+j] = p [i,j]\n",
    "\n",
    "#Matrix of coefficients\n",
    "coef = np.zeros((N**2,N**2))\n",
    "\n",
    "for k in range (N*N):\n",
    "    coef [k,k] = -2*(ex+ey)\n",
    "    if k > 0:\n",
    "        coef [k,k-1] = ey\n",
    "    if k < (N*N-1):\n",
    "        coef [k,k+1] = ey\n",
    "    if k > (N+1): \n",
    "        coef [k,k-N-1] = ex\n",
    "    if k  < (N*N-N-1): \n",
    "        coef [k,k+N+1] = ex"
   ]
  },
  {
   "cell_type": "code",
   "execution_count": null,
   "metadata": {},
   "outputs": [],
   "source": []
  }
 ],
 "metadata": {
  "colab": {
   "provenance": []
  },
  "kernelspec": {
   "display_name": "Python 3",
   "language": "python",
   "name": "python3"
  },
  "language_info": {
   "codemirror_mode": {
    "name": "ipython",
    "version": 3
   },
   "file_extension": ".py",
   "mimetype": "text/x-python",
   "name": "python",
   "nbconvert_exporter": "python",
   "pygments_lexer": "ipython3",
   "version": "3.8.5"
  }
 },
 "nbformat": 4,
 "nbformat_minor": 1
}
