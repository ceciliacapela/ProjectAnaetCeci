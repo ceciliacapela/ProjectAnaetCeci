{
 "cells": [
  {
   "cell_type": "code",
   "execution_count": 27,
   "metadata": {},
   "outputs": [
    {
     "data": {
      "image/png": "[encoded data removed]",
      "text/plain": [
       "<Figure size 720x720 with 2 Axes>"
      ]
     },
     "metadata": {
      "needs_background": "light"
     },
     "output_type": "display_data"
    },
    {
     "name": "stdout",
     "output_type": "stream",
     "text": [
      "[0.       0.015625 0.03125  0.046875 0.0625   0.078125 0.09375  0.109375\n",
      " 0.125    0.140625 0.15625  0.171875 0.1875   0.203125 0.21875  0.234375\n",
      " 0.25     0.265625 0.28125  0.296875 0.3125   0.328125 0.34375  0.359375\n",
      " 0.375    0.390625 0.40625  0.421875 0.4375   0.453125 0.46875  0.484375\n",
      " 0.5      0.515625 0.53125  0.546875 0.5625   0.578125 0.59375  0.609375\n",
      " 0.625    0.640625 0.65625  0.671875 0.6875   0.703125 0.71875  0.734375\n",
      " 0.75     0.765625 0.78125  0.796875 0.8125   0.828125 0.84375  0.859375\n",
      " 0.875    0.890625 0.90625  0.921875 0.9375   0.953125 0.96875  0.984375\n",
      " 1.      ]\n"
     ]
    }
   ],
   "source": [
    "#Import libraries\n",
    "import numpy as np\n",
    "import pylab as py\n",
    "import seaborn as sns\n",
    "import matplotlib.pyplot as plt\n",
    "#Variables\n",
    "N = 65\n",
    "rho0 = 1\n",
    "epsilon_0 = 8.8e-12\n",
    "#Creating domain\n",
    "x = np.linspace(0,1, N)\n",
    "y = np.linspace(0,1, N)\n",
    "\n",
    "#Creating lines of charge\n",
    "dx = 1/(N-1)\n",
    "dy = dx\n",
    "p = np.zeros((N,N))\n",
    "\n",
    "jmin = int(0.25/dx)\n",
    "jmax = int(0.75/dx)\n",
    "i2 = int(0.6/dy)\n",
    "i1 = int(0.4/dy)\n",
    "for j in range(jmin, jmax):\n",
    "        p[i2, j] = -rho0/epsilon_0\n",
    "        p[i1, j] = rho0/epsilon_0\n",
    "\n",
    "ex = dx**(-2)\n",
    "ey = ex\n",
    "\n",
    "#Visualizing the lines of charge and the domain\n",
    "plt.figure (figsize = (10,10))\n",
    "ax = sns.heatmap(p, linewidth=0.1, cmap = \"YlGnBu\")\n",
    "plt.xlabel('x')\n",
    "plt.ylabel('y')\n",
    "plt.show()\n",
    "print(x)\n",
    "\n",
    "#Reindexing\n",
    "#New rho \n",
    "pk = np.zeros ((N*N))\n",
    "for i in range (N):\n",
    "    for j in range (N):\n",
    "        pk [i*N+j] = p [i,j]\n",
    "\n",
    "#Matrix of coefficients\n",
    "coef = np.zeros((N**2,N**2))\n",
    "\n",
    "for k in range (N*N):\n",
    "    coef [k,k] = -2*(ex+ey)\n",
    "    if k > 0:\n",
    "        coef [k,k-1] = ey\n",
    "    if k < (N*N-1):\n",
    "        coef [k,k+1] = ey\n",
    "    if k > (N+1): \n",
    "        coef [k,k-N-1] = ex\n",
    "    if k  < (N*N-N-1): \n",
    "        coef [k,k+N+1] = ex"
   ]
  },
  {
   "cell_type": "code",
   "execution_count": 29,
   "metadata": {},
   "outputs": [
    {
     "ename": "KeyboardInterrupt",
     "evalue": "",
     "output_type": "error",
     "traceback": [
      "\u001b[1;31m---------------------------------------------------------------------------\u001b[0m",
      "\u001b[1;31mKeyboardInterrupt\u001b[0m                         Traceback (most recent call last)",
      "\u001b[1;32m<ipython-input-29-f214fa6c5e4c>\u001b[0m in \u001b[0;36m<module>\u001b[1;34m\u001b[0m\n\u001b[0;32m     11\u001b[0m         \u001b[1;32mfor\u001b[0m \u001b[0mj\u001b[0m \u001b[1;32min\u001b[0m \u001b[0mrange\u001b[0m \u001b[1;33m(\u001b[0m\u001b[0mN\u001b[0m\u001b[1;33m*\u001b[0m\u001b[0mN\u001b[0m\u001b[1;33m)\u001b[0m\u001b[1;33m:\u001b[0m\u001b[1;33m\u001b[0m\u001b[1;33m\u001b[0m\u001b[0m\n\u001b[0;32m     12\u001b[0m                 \u001b[1;32mif\u001b[0m \u001b[0mj\u001b[0m \u001b[1;33m<\u001b[0m \u001b[0mi\u001b[0m\u001b[1;33m:\u001b[0m\u001b[1;33m\u001b[0m\u001b[1;33m\u001b[0m\u001b[0m\n\u001b[1;32m---> 13\u001b[1;33m                     \u001b[0msum1\u001b[0m \u001b[1;33m+=\u001b[0m \u001b[0mcoef\u001b[0m\u001b[1;33m[\u001b[0m\u001b[0mi\u001b[0m\u001b[1;33m,\u001b[0m\u001b[0mj\u001b[0m\u001b[1;33m]\u001b[0m\u001b[1;33m*\u001b[0m\u001b[0mu_new\u001b[0m\u001b[1;33m[\u001b[0m\u001b[0mj\u001b[0m\u001b[1;33m]\u001b[0m\u001b[1;33m\u001b[0m\u001b[1;33m\u001b[0m\u001b[0m\n\u001b[0m\u001b[0;32m     14\u001b[0m                 \u001b[1;32mif\u001b[0m \u001b[0mj\u001b[0m \u001b[1;33m>\u001b[0m \u001b[0mi\u001b[0m\u001b[1;33m:\u001b[0m\u001b[1;33m\u001b[0m\u001b[1;33m\u001b[0m\u001b[0m\n\u001b[0;32m     15\u001b[0m                     \u001b[0msum2\u001b[0m \u001b[1;33m+=\u001b[0m \u001b[0mcoef\u001b[0m\u001b[1;33m[\u001b[0m\u001b[0mi\u001b[0m\u001b[1;33m,\u001b[0m\u001b[0mj\u001b[0m\u001b[1;33m]\u001b[0m\u001b[1;33m*\u001b[0m\u001b[0mu_old\u001b[0m\u001b[1;33m[\u001b[0m\u001b[0mj\u001b[0m\u001b[1;33m]\u001b[0m\u001b[1;33m\u001b[0m\u001b[1;33m\u001b[0m\u001b[0m\n",
      "\u001b[1;31mKeyboardInterrupt\u001b[0m: "
     ]
    }
   ],
   "source": [
    "#Inversion method: Gauss-Seidel zith over-relaxation\n",
    "w = 1.1\n",
    "u_old = np.zeros(N*N)\n",
    "u_new = np.zeros(N*N)\n",
    "error = np.zeros(N*N)\n",
    "condition = True\n",
    "while (condition):\n",
    "    for i in range (N*N):\n",
    "        sum1 = 0\n",
    "        sum2 = 0\n",
    "        for j in range (N*N):\n",
    "                if j < i:\n",
    "                    sum1 += coef[i,j]*u_new[j] \n",
    "                if j > i: \n",
    "                    sum2 += coef[i,j]*u_old[j] \n",
    "        u_new[i] = (((1-w)*u_old[i]) + (w/coef[i,i])*(pk[i] - sum1- sum2))\n",
    "        error[i] = u_new[i]-u_old[i]\n",
    "        u_old[i] = u_new[i]\n",
    "    if max(error) < 100000:\n",
    "        condition = False\n",
    "print(u_new)"
   ]
  },
  {
   "cell_type": "code",
   "execution_count": null,
   "metadata": {},
   "outputs": [],
   "source": [
    "pot_u = np.zeros((N,N))\n",
    "for i in range(N):\n",
    "    for j in range(N):\n",
    "        pot_u[i,j] = u_new[i*N+j]\n",
    "\n",
    "py.figure(figsize = (12,8))\n",
    "py.contourf(x,y,pot_u, 40, cmap = 'inferno')\n",
    "py.colorbar()\n",
    "py.xlabel('x (u.a)')\n",
    "py.ylabel('y (u.a)')\n",
    "py.title(r'$\\nabla^2 u = -\\rho/\\epsilon_0$')"
   ]
  },
  {
   "cell_type": "code",
   "execution_count": null,
   "metadata": {},
   "outputs": [],
   "source": []
  }
 ],
 "metadata": {
  "kernelspec": {
   "display_name": "Python 3",
   "language": "python",
   "name": "python3"
  },
  "language_info": {
   "codemirror_mode": {
    "name": "ipython",
    "version": 3
   },
   "file_extension": ".py",
   "mimetype": "text/x-python",
   "name": "python",
   "nbconvert_exporter": "python",
   "pygments_lexer": "ipython3",
   "version": "3.8.5"
  }
 },
 "nbformat": 4,
 "nbformat_minor": 4
}
