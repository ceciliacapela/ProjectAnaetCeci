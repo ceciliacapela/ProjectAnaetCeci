{
 "cells": [
  {
   "cell_type": "code",
   "execution_count": 169,
   "metadata": {},
   "outputs": [],
   "source": [
    "#Import libraries\n",
    "import numpy as np\n",
    "import pylab as py\n",
    "import seaborn as sns"
   ]
  },
  {
   "cell_type": "markdown",
   "metadata": {},
   "source": [
    "# Poisson Equation\n",
    "##### Ana Júlia Antunes Souza and Cecilia Pires de Oliveira Capela\n",
    "\n",
    "## Problem proposed\n",
    "In this project, we are interested in detemining the solution for the Poisson equation for an electrostatic potential problem. \n",
    "The electric potential in the presence of lines of charge is:\n",
    "$$\\frac{\\partial^2 V}{\\partial x^2}+\\frac{\\partial^2 V}{\\partial y^2}= -\\frac{\\rho}{\\epsilon_0}$$ \n",
    "where $\\rho$ is the volumetric density of charges and $\\epsilon_0$ is the electric permissivity in vacuum\n",
    "\n",
    "For the values of these variables, we are going to use: \n",
    "$$\\rho = 1 \\qquad\n",
    "\\epsilon_0 = 8.8 \\cdot 10^{-12}\n",
    "$$"
   ]
  },
  {
   "cell_type": "code",
   "execution_count": 170,
   "metadata": {},
   "outputs": [],
   "source": [
    "#Variables\n",
    "N = 65\n",
    "rho0 = 1\n",
    "epsilon_0 = 8.8e-12"
   ]
  },
  {
   "cell_type": "markdown",
   "metadata": {},
   "source": [
    "We are going to study the electrostatic potential of a condenser, which is limited to a $xy$ plan, where the domain is:\n",
    "\n",
    "$$0\\leq x \\leq 1 \\qquad 0\\leq y \\leq 1$$\n",
    "\n",
    "The lines of charge are present in the following positions: \n",
    "\n",
    "$$Positive \\space charge \\space line: 0.25 \\leq x \\leq 0.75, y = 0.4$$\n",
    "\n",
    "$$Negative \\space charge \\space line: 0.25 \\leq x \\leq 0.75, y = 0.6$$\n",
    "\n",
    "We can write:\n",
    "\n",
    "$$\\left\\{\\begin{matrix}\n",
    "x_i = x_0 + i\\Delta x & 0\\leq i < N \\\\ \n",
    "y_j = y_0 + j\\Delta y & 0\\leq j < N \n",
    "\\end{matrix}\\right.$$\n",
    "\n",
    "Then, we have to determine the $dx$ and $dy$ as well as the variations $\\epsilon_x = \\frac{1}{\\Delta x^2}$ and $\\epsilon_y = \\frac{1}{\\Delta y^2}$ for a square mesh with $N = 65$ subdivisions between $(x_0,y_0)$ and $(x_{ max},y_{max})$:"
   ]
  },
  {
   "cell_type": "code",
   "execution_count": 181,
   "metadata": {},
   "outputs": [
    {
     "data": {
      "image/png": "[encoded data removed]",
      "text/plain": [
       "<Figure size 720x720 with 2 Axes>"
      ]
     },
     "metadata": {
      "needs_background": "light"
     },
     "output_type": "display_data"
    },
    {
     "name": "stdout",
     "output_type": "stream",
     "text": [
      "[0.       0.015625 0.03125  0.046875 0.0625   0.078125 0.09375  0.109375\n",
      " 0.125    0.140625 0.15625  0.171875 0.1875   0.203125 0.21875  0.234375\n",
      " 0.25     0.265625 0.28125  0.296875 0.3125   0.328125 0.34375  0.359375\n",
      " 0.375    0.390625 0.40625  0.421875 0.4375   0.453125 0.46875  0.484375\n",
      " 0.5      0.515625 0.53125  0.546875 0.5625   0.578125 0.59375  0.609375\n",
      " 0.625    0.640625 0.65625  0.671875 0.6875   0.703125 0.71875  0.734375\n",
      " 0.75     0.765625 0.78125  0.796875 0.8125   0.828125 0.84375  0.859375\n",
      " 0.875    0.890625 0.90625  0.921875 0.9375   0.953125 0.96875  0.984375\n",
      " 1.      ]\n"
     ]
    }
   ],
   "source": [
    "#Creating domain\n",
    "x = np.linspace(0,1, N)\n",
    "y = np.linspace(0,1, N)\n",
    "\n",
    "#Creating lines of charge\n",
    "dx = 1/(N-1)\n",
    "dy = dx\n",
    "p = np.zeros((N,N))\n",
    "\n",
    "jmin = int(0.25/dx)\n",
    "jmax = int(0.75/dx)\n",
    "i2 = int(0.6/dy)\n",
    "i1 = int(0.4/dy)\n",
    "for j in range(jmin, jmax):\n",
    "        p[i2, j] = -rho0\n",
    "        p[i1, j] = rho0\n",
    "\n",
    "ex = dx**(-2)\n",
    "ey = ex\n",
    "\n",
    "#Visualizing the lines of charge and the domain\n",
    "plt.figure (figsize = (10,10))\n",
    "ax = sns.heatmap(p, linewidth=0.1, cmap = \"YlGnBu\")\n",
    "plt.xlabel('x')\n",
    "plt.ylabel('y')\n",
    "plt.show()\n",
    "print(x)"
   ]
  },
  {
   "cell_type": "code",
   "execution_count": 179,
   "metadata": {},
   "outputs": [],
   "source": [
    "#Reindexing\n",
    "#New rho \n",
    "pk = np.zeros ((N*N))\n",
    "for i in range (N):\n",
    "    for j in range (N):\n",
    "        pk [i*N+j] = p [i,j]\n",
    "\n",
    "#Matrix of coefficients\n",
    "coef = np.zeros((N**2,N**2))\n",
    "\n",
    "for k in range (N*N):\n",
    "    coef [k,k] = -2*(ex+ey)\n",
    "    if k > 0:\n",
    "        coef [k,k-1] = ey\n",
    "    if k < (N*N-1):\n",
    "        coef [k,k+1] = ey\n",
    "    if k > (N+1): \n",
    "        coef [k,k-N-1] = ex\n",
    "    if k  < (N*N-N-1): \n",
    "        coef [k,k+N+1] = ex"
   ]
  },
  {
   "cell_type": "code",
   "execution_count": null,
   "metadata": {},
   "outputs": [],
   "source": [
    "def Jacobi(A, b, N, x_init): \n",
    "    D = np.diag(A)\n",
    "    R = A - np.diagflat(D)\n",
    "    for i in range(N):\n",
    "        x = (b - R.dot(x_init))/D\n",
    "        x_init = x\n",
    "    return x\n",
    "u = Jacobi (coef, -pk/epsilon_0, int(1e4), np.zeros(len(pk)))"
   ]
  },
  {
   "cell_type": "code",
   "execution_count": 187,
   "metadata": {},
   "outputs": [],
   "source": [
    "pot_u = np.zeros((N,N))\n",
    "for i in range(N):\n",
    "    for j in range(N):\n",
    "        pot_u[i,j] = u[i*N+j]"
   ]
  },
  {
   "cell_type": "code",
   "execution_count": 188,
   "metadata": {},
   "outputs": [
    {
     "data": {
      "text/plain": [
       "Text(0.5, 1.0, '$\\\\nabla^2 u = -\\\\rho/\\\\epsilon_0$')"
      ]
     },
     "execution_count": 188,
     "metadata": {},
     "output_type": "execute_result"
    },
    {
     "data": {
      "image/png": "[encoded data removed]",
      "text/plain": [
       "<Figure size 864x576 with 2 Axes>"
      ]
     },
     "metadata": {
      "needs_background": "light"
     },
     "output_type": "display_data"
    }
   ],
   "source": [
    "py.figure(figsize = (12,8))\n",
    "py.contourf(x,y,pot_u, 40, cmap = 'inferno')\n",
    "py.colorbar()\n",
    "py.xlabel('x (u.a)')\n",
    "py.ylabel('y (u.a)')\n",
    "py.title(r'$\\nabla^2 u = -\\rho/\\epsilon_0$')"
   ]
  },
  {
   "cell_type": "code",
   "execution_count": null,
   "metadata": {},
   "outputs": [],
   "source": []
  },
  {
   "cell_type": "code",
   "execution_count": null,
   "metadata": {},
   "outputs": [],
   "source": []
  }
 ],
 "metadata": {
  "kernelspec": {
   "display_name": "Python 3",
   "language": "python",
   "name": "python3"
  },
  "language_info": {
   "codemirror_mode": {
    "name": "ipython",
    "version": 3
   },
   "file_extension": ".py",
   "mimetype": "text/x-python",
   "name": "python",
   "nbconvert_exporter": "python",
   "pygments_lexer": "ipython3",
   "version": "3.8.5"
  }
 },
 "nbformat": 4,
 "nbformat_minor": 5
}
